{
 "cells": [
  {
   "cell_type": "markdown",
   "id": "6d0ab9f1",
   "metadata": {},
   "source": [
    "# Q1: What type of delays are occurring most at the airports? "
   ]
  },
  {
   "cell_type": "code",
   "execution_count": 1,
   "id": "af8a76c5",
   "metadata": {},
   "outputs": [],
   "source": [
    "import pandas as pd\n",
    "from pathlib import Path"
   ]
  },
  {
   "cell_type": "code",
   "execution_count": null,
   "id": "1651c4ec",
   "metadata": {},
   "outputs": [],
   "source": [
    "FILE = Path(\"datasets/AA_ATFM_Delay.xlsx\")\n",
    "SHEET = \"Blad1\"\n",
    "YEARS = [2023, 2024]   # use [2023] for only one year\n",
    "df_AT = pd.read_excel(\"datasets/AirportTraffic.xlsx\")"
   ]
  },
  {
   "cell_type": "code",
   "execution_count": 3,
   "id": "a59c4d4e",
   "metadata": {},
   "outputs": [],
   "source": [
    "#setting the letter into what it is\n",
    "delay_mapping = {\n",
    "    \"A\": \"Accident/Incident\",\n",
    "    \"C\": \"ATC Capacity\",\n",
    "    \"D\": \"De-icing\",\n",
    "    \"E\": \"Equipment (non-ATC)\",\n",
    "    \"G\": \"Aerodrome Capacity\",\n",
    "    \"I\": \"Industrial Action (ATC)\",\n",
    "    \"M\": \"Airspace Management\",\n",
    "    \"N\": \"Industrial Action (non-ATC)\",\n",
    "    \"O\": \"Other\",\n",
    "    \"P\": \"Special Event\",\n",
    "    \"R\": \"ATC Routeing\",\n",
    "    \"S\": \"ATC Staffing\",\n",
    "    \"T\": \"Equipment (ATC)\",\n",
    "    \"V\": \"Environmental Issues\",\n",
    "    \"W\": \"Weather\",\n",
    "    \"NA\": \"Not specified\"\n",
    "}"
   ]
  },
  {
   "cell_type": "code",
   "execution_count": 4,
   "id": "85cfe248",
   "metadata": {},
   "outputs": [],
   "source": [
    "df_top20 = (\n",
    "    df_AT.groupby(\"APT_ICAO\")[[\"FLT_TOT_1\", \"FLT_DEP_1\", \"FLT_ARR_1\"]] #Group by airport code\n",
    "    .sum().sort_values(by=\"FLT_TOT_1\",ascending=False) #Sum the values for each code of the 3 columns indicated\n",
    "    .head(20).reset_index()) #Change \"20\" to change the number of airports analysed\n",
    "# Adding airport's city name and state from original dataset\n",
    "df_top20 = (df_top20.merge(df_AT[[\"APT_ICAO\", \"APT_NAME\", \"STATE_NAME\"]]\n",
    "                           .drop_duplicates(), on=\"APT_ICAO\", how=\"left\"))\n",
    "airports_code_list = df_top20[\"APT_ICAO\"].tolist()"
   ]
  },
  {
   "cell_type": "code",
   "execution_count": null,
   "id": "1bbdaa36",
   "metadata": {},
   "outputs": [],
   "source": [
    "df = pd.read_excel(FILE, sheet_name=SHEET)\n",
    "df = df[df[\"YEAR\"].isin(YEARS) & df[\"APT_ICAO\"].isin(airports_code_list)].copy()"
   ]
  },
  {
   "cell_type": "code",
   "execution_count": null,
   "id": "3052d2b2",
   "metadata": {},
   "outputs": [],
   "source": [
    "#what columns\n",
    "delay_cols = sorted([\n",
    "    c for c in df.columns\n",
    "    if c.startswith(\"DLY_APT_ARR_\") and c.endswith(\"_1\") and c != \"DLY_APT_ARR_1\"\n",
    "])\n",
    "\n",
    "#FIND MOST-OCCURRING TYPE PER (airport, year, month)(idk chat did this)\n",
    "occ = (df[delay_cols].fillna(0) > 0)\n",
    "group_keys = [\"APT_ICAO\", \"YEAR\", \"MONTH_NUM\"]\n",
    "counts = occ.groupby([df[k] for k in group_keys]).sum()\n",
    "\n",
    "best_col = counts.idxmax(axis=1)\n",
    "best_code = (best_col.str.replace(\"DLY_APT_ARR_\", \"\", regex=False)\n",
    "                      .str.replace(\"_1\", \"\", regex=False))\n",
    "\n",
    "#table making\n",
    "long_df = (\n",
    "    best_code.reset_index(name=\"delay_code\")\n",
    "    .assign(\n",
    "        Year=lambda d: d[\"YEAR\"].astype(str),\n",
    "        Month=lambda d: d[\"MONTH_NUM\"].astype(str).str.zfill(2),\n",
    "        delay_type=lambda d: d[\"delay_code\"].map(delay_mapping)\n",
    "    )\n",
    "    .loc[:, [\"Year\", \"Month\", \"APT_ICAO\", \"delay_type\"]]\n",
    "    .sort_values([\"APT_ICAO\", \"Year\", \"Month\"])\n",
    "    .set_index(\"APT_ICAO\")\n",
    ")\n",
    "\n",
    "#printing, but maybe remove it before committing?\n",
    "display(long_df)\n",
    "print(\"Rows:\", len(long_df))"
   ]
  },
  {
   "cell_type": "markdown",
   "id": "ace83fc3",
   "metadata": {},
   "source": [
    "Let's add some visualisation: \n",
    "- What's the split between 2023 and 2024 (pie charts or histograms), are they similar? \n",
    "- What's the most frequent reason for delay for each airport in between 23-24?\n",
    "- Based off last question, how many airport don't suffer from exogenous causes (meaning the can control what's going wrong)? -> ask JP for endogenous/exogenous causes"
   ]
  }
 ],
 "metadata": {
  "kernelspec": {
   "display_name": "TIL6022-25",
   "language": "python",
   "name": "python3"
  },
  "language_info": {
   "codemirror_mode": {
    "name": "ipython",
    "version": 3
   },
   "file_extension": ".py",
   "mimetype": "text/x-python",
   "name": "python",
   "nbconvert_exporter": "python",
   "pygments_lexer": "ipython3",
   "version": "3.13.5"
  }
 },
 "nbformat": 4,
 "nbformat_minor": 5
}
