{
 "cells": [
  {
   "cell_type": "code",
   "execution_count": 15,
   "id": "12b7862b",
   "metadata": {},
   "outputs": [],
   "source": [
    "import pandas as pd\n",
    "import geopandas as gpd\n",
    "from dash import Dash, dcc, html, Input, Output\n",
    "import plotly.express as px\n",
    "\n",
    "## collecting all of the neccesary data\n",
    "df_Ageo_top20 = pd.read_csv(\"datasets_rq4/df_Ageo_top20.csv\")\n",
    "# df_rq1m = pd.read_csv(\"datasets_rq4/.....\")\n",
    "# df_rq1t = pd.read_csv(\"datasets_rq4/.....\")\n",
    "# df_rq2m = pd.read_csv(\"datasets_rq4/.....\")\n",
    "# df_rq2t = pd.read_csv(\"datasets_rq4/.....\")\n"
   ]
  },
  {
   "cell_type": "markdown",
   "id": "39c945d8",
   "metadata": {},
   "source": [
    "## Code for the map"
   ]
  },
  {
   "cell_type": "code",
   "execution_count": 16,
   "id": "22da6865",
   "metadata": {},
   "outputs": [],
   "source": [
    "url = \"https://naciscdn.org/naturalearth/110m/cultural/ne_110m_admin_0_countries.zip\"\n",
    "world = gpd.read_file(url)\n",
    "\n",
    "\n"
   ]
  }
 ],
 "metadata": {
  "kernelspec": {
   "display_name": "TIL6022-25",
   "language": "python",
   "name": "python3"
  },
  "language_info": {
   "codemirror_mode": {
    "name": "ipython",
    "version": 3
   },
   "file_extension": ".py",
   "mimetype": "text/x-python",
   "name": "python",
   "nbconvert_exporter": "python",
   "pygments_lexer": "ipython3",
   "version": "3.13.5"
  }
 },
 "nbformat": 4,
 "nbformat_minor": 5
}
