{
 "cells": [
  {
   "cell_type": "markdown",
   "id": "2afdd7d5",
   "metadata": {},
   "source": [
    "# Which airports experience the highest, the lowest, and most consistent delay rates?"
   ]
  },
  {
   "cell_type": "code",
   "execution_count": 2,
   "id": "13381424",
   "metadata": {},
   "outputs": [],
   "source": [
    "import pandas as pd"
   ]
  },
  {
   "cell_type": "code",
   "execution_count": 3,
   "id": "04f712ad",
   "metadata": {},
   "outputs": [],
   "source": [
    "url = \"https://raw.githubusercontent.com/Bas-82/TIL6022-Research-project/main/datasets/AA_ATFM_Delay.xlsx\"\n",
    "df = pd.read_excel(url)"
   ]
  },
  {
   "cell_type": "code",
   "execution_count": 4,
   "id": "5fb4c753",
   "metadata": {},
   "outputs": [
    {
     "name": "stdout",
     "output_type": "stream",
     "text": [
      "The top 10 airports with most delayed flights are:\n",
      "APT_ICAO  YEAR                            APT_NAME  delayed\n",
      "    LPPT  2023                              Lisbon      361\n",
      "    EHAM  2024                Amsterdam - Schiphol      358\n",
      "    LLBG  2023 Tel Aviv - Ben Gurion International      353\n",
      "    LPPT  2024                              Lisbon      349\n",
      "    EGLL  2024                   London - Heathrow      334\n",
      "    LSZH  2024                              Zürich      312\n",
      "    EHAM  2023                Amsterdam - Schiphol      302\n",
      "    LEMD  2023                    Madrid - Barajas      284\n",
      "    LGAV  2024                              Athens      275\n",
      "    LFPO  2023                          Paris-Orly      270\n",
      "\n",
      "The top 10 airports with fewest delayed flights are:\n",
      "APT_ICAO  YEAR             APT_NAME  delayed\n",
      "    GCHI  2024               Hierro        0\n",
      "    GCLA  2023             La Palma        0\n",
      "    GCLA  2024             La Palma        0\n",
      "    GEML  2023              Melilla        0\n",
      "    GEML  2024              Melilla        0\n",
      "    GMAD  2023           Al Massira        0\n",
      "    GMAD  2024           Al Massira        0\n",
      "    GMFF  2023                Saïss        0\n",
      "    GMFF  2024                Saïss        0\n",
      "    UKOO  2023 Odessa International        0\n"
     ]
    }
   ],
   "source": [
    "\n",
    "#We only focus on the years 2023 and 2024\n",
    "df = df[df['YEAR'].isin([2023, 2024])]\n",
    "\n",
    "#We create a top 10 of airports with the highest and the lowest number of delayed flights below\n",
    "df['delayed'] = df['FLT_ARR_1_DLY'] > 0\n",
    "\n",
    "delays_per_airport = df.groupby(['APT_ICAO', 'YEAR', 'APT_NAME'])['delayed'].sum().reset_index()\n",
    "delays_per_airport = delays_per_airport.sort_values('delayed', ascending=False)\n",
    "\n",
    "print(\"The top 10 airports with most delayed flights are:\")\n",
    "print(delays_per_airport.head(10).to_string(index=False))\n",
    "\n",
    "print(\"\\nThe top 10 airports with fewest delayed flights are:\")\n",
    "print(delays_per_airport.tail(10).to_string(index=False))"
   ]
  },
  {
   "cell_type": "markdown",
   "id": "db236fa6",
   "metadata": {},
   "source": [
    "Same dataframe but with average minutes"
   ]
  },
  {
   "cell_type": "code",
   "execution_count": 5,
   "id": "49e7dcbe",
   "metadata": {},
   "outputs": [
    {
     "name": "stdout",
     "output_type": "stream",
     "text": [
      "The top 10 airports with larrgest total amount of delay minutes:\n",
      "    APT_ICAO                             APT_NAME  FLT_ARR_1_DLY\n",
      "61      EHAM                 Amsterdam - Schiphol        93661.0\n",
      "47      EGLL                    London - Heathrow        65314.0\n",
      "355     LPPT                               Lisbon        58685.0\n",
      "263     LGAV                               Athens        50419.0\n",
      "44      EGKK                     London - Gatwick        38960.0\n",
      "379     LTAI                              Antalya        27453.0\n",
      "9       EDDF                            Frankfurt        27388.0\n",
      "374     LSZH                               Zürich        26796.0\n",
      "337     LLBG  Tel Aviv - Ben Gurion International        22209.0\n",
      "167     LEMD                     Madrid - Barajas        18858.0\n",
      "\n",
      "AThe top 10 airports with smallest total amount of delay minutes:\n",
      "    APT_ICAO               APT_NAME  FLT_ARR_1_DLY\n",
      "130     GMAD             Al Massira            0.0\n",
      "282     LIBF     Foggia - Gino Lisa            0.0\n",
      "284     LIBP  Pescara International            0.0\n",
      "129     GEML                Melilla            0.0\n",
      "124     GCLA               La Palma            0.0\n",
      "287     LICB                 Comiso            0.0\n",
      "123     GCHI                 Hierro            0.0\n",
      "122     GCGM              La Gomera            0.0\n",
      "290     LICG            Pantelleria            0.0\n",
      "401     UKOO   Odessa International            0.0\n"
     ]
    }
   ],
   "source": [
    "#We only focus on the years 2023 and 2024\n",
    "df = df[df['YEAR'].isin([2023, 2024])]\n",
    "\n",
    "#Now we create a top 10 of airports with the highest and the lowest amount of delay minnutes\n",
    "df['delayed'] = df['FLT_ARR_1_DLY'] > 0\n",
    "\n",
    "delay_minutes_per_airport = df.groupby(['APT_ICAO', 'APT_NAME'])['FLT_ARR_1_DLY'].sum().reset_index()\n",
    "delay_minutes_per_airport = delay_minutes_per_airport.sort_values('FLT_ARR_1_DLY', ascending=False)\n",
    "\n",
    "print(\"The top 10 airports with larrgest total amount of delay minutes:\")\n",
    "print(delay_minutes_per_airport.head(10))\n",
    "\n",
    "print(\"\\nAThe top 10 airports with smallest total amount of delay minutes:\")\n",
    "print(delay_minutes_per_airport.tail(10))\n"
   ]
  },
  {
   "cell_type": "code",
   "execution_count": 6,
   "id": "a4c6caf3",
   "metadata": {},
   "outputs": [
    {
     "name": "stdout",
     "output_type": "stream",
     "text": [
      "The top 10 airports with most consistent delayed flight rates are:\n",
      "    APT_ICAO            APT_NAME  mean  std\n",
      "400     UKLL  Lviv International   0.0  0.0\n",
      "122     GCGM           La Gomera   0.0  0.0\n",
      "123     GCHI              Hierro   0.0  0.0\n",
      "124     GCLA            La Palma   0.0  0.0\n",
      "295     LIEA    Alghero-Fertilia   0.0  0.0\n",
      "292     LICR     Reggio Calabria   0.0  0.0\n",
      "290     LICG         Pantelleria   0.0  0.0\n",
      "129     GEML             Melilla   0.0  0.0\n",
      "130     GMAD          Al Massira   0.0  0.0\n",
      "298     LIMA    Torino-Aeritalia   0.0  0.0\n",
      "\n",
      "The top 10 airports with least consistent delayed flight rates are:\n",
      "    APT_ICAO              APT_NAME       mean        std\n",
      "51      EGNT             Newcastle  29.083333  20.531388\n",
      "263     LGAV                Athens  41.416667  22.932543\n",
      "269     LGKR                 Corfu  17.000000  24.866919\n",
      "379     LTAI               Antalya  31.333333  27.463474\n",
      "264     LGIR             Heraklion  26.333333  27.818677\n",
      "265     LGKF            Kefallinia  21.333333  28.298196\n",
      "278     LGZA             Zakinthos  22.000000  28.517937\n",
      "273     LGSA        Khania - Souda  29.583333  28.924536\n",
      "399     UKBB       Kiev - Boryspil   0.000000        NaN\n",
      "401     UKOO  Odessa International   0.000000        NaN\n"
     ]
    }
   ],
   "source": [
    "#We calculate the standard deviation of the montly delays in each airport. This informs us about the consistency in delay rates. The lower the standard deviation, the more consistent the delay rates are.\n",
    "monthly_delays = df.groupby(['APT_ICAO', 'APT_NAME', 'MONTH_NUM'])['delayed'].sum().reset_index()\n",
    "\n",
    "stats_per_airport = monthly_delays.groupby(['APT_ICAO', 'APT_NAME'])['delayed'].agg(['mean', 'std']).reset_index()\n",
    "most_consistent_airports = stats_per_airport.sort_values('std')\n",
    "\n",
    "print(\"The top 10 airports with most consistent delayed flight rates are:\")\n",
    "print(most_consistent_airports.head(10))\n",
    "\n",
    "print(\"\\nThe top 10 airports with least consistent delayed flight rates are:\")\n",
    "print(most_consistent_airports.tail(10))"
   ]
  },
  {
   "cell_type": "code",
   "execution_count": 7,
   "id": "7293a227",
   "metadata": {},
   "outputs": [
    {
     "name": "stdout",
     "output_type": "stream",
     "text": [
      "The top 10 airports with most consistent monthly delay minutes are:\n",
      "APT_ICAO                            APT_NAME        mean         std\n",
      "    LGAV                              Athens 4201.583333 3613.106884\n",
      "    EGKK                    London - Gatwick 3246.666667 2469.632447\n",
      "    LTAI                             Antalya 2287.750000 2340.475364\n",
      "    EHAM                Amsterdam - Schiphol 7805.083333 2181.953064\n",
      "    EKCH                Copenhagen - Kastrup 1549.500000 1896.159444\n",
      "    EGLL                   London - Heathrow 5442.833333 1860.643722\n",
      "    EDDF                           Frankfurt 2282.333333 1763.901890\n",
      "    LEPA                   Palma de Mallorca 1284.833333 1190.161015\n",
      "    LLBG Tel Aviv - Ben Gurion International 1850.750000 1183.080734\n",
      "    LPPT                              Lisbon 4890.416667 1164.003238\n",
      "\n",
      "The top 10 airports with least consistent monthly delay minutes are:\n",
      "APT_ICAO                 APT_NAME  mean  std\n",
      "    LICG              Pantelleria   0.0  0.0\n",
      "    LBWN                    Varna   0.0  0.0\n",
      "    LICR          Reggio Calabria   0.0  0.0\n",
      "    LBBG                   Burgas   0.0  0.0\n",
      "    GMTT              Ibn Batouta   0.0  0.0\n",
      "    LIEA         Alghero-Fertilia   0.0  0.0\n",
      "    GMMN Mohammed V International   0.0  0.0\n",
      "    UKLL       Lviv International   0.0  0.0\n",
      "    UKBB          Kiev - Boryspil   0.0  NaN\n",
      "    UKOO     Odessa International   0.0  NaN\n"
     ]
    }
   ],
   "source": [
    "#We calculate the standard deviation of the montly minutes of delay in each airport. It is the same approach as in the previous code, but now with the minutes of delay as input data.\n",
    "monthly_delay_minutes = df.groupby(['APT_ICAO', 'APT_NAME', 'MONTH_NUM'])['FLT_ARR_1_DLY'].sum().reset_index()\n",
    "\n",
    "stats_per_airport_minutes = monthly_delay_minutes.groupby(['APT_ICAO', 'APT_NAME'])['FLT_ARR_1_DLY'].agg(['mean', 'std']).reset_index()\n",
    "most_consistent_minutes = stats_per_airport_minutes.sort_values('std', ascending=False)\n",
    "\n",
    "print(\"The top 10 airports with most consistent monthly delay minutes are:\")\n",
    "print(most_consistent_minutes.head(10).to_string(index=False))\n",
    "\n",
    "print(\"\\nThe top 10 airports with least consistent monthly delay minutes are:\")\n",
    "print(most_consistent_minutes.tail(10).to_string(index=False))"
   ]
  },
  {
   "cell_type": "markdown",
   "id": "c73c9808",
   "metadata": {},
   "source": [
    "Suggestions on how to interpret \"efficiency\":\n",
    "\n",
    "1. Based on delay rates: the smaller the delay rate, the higher efficiency\n",
    "a. Proportion of flights\n",
    "b. Proportion of time \n",
    "\n",
    "2. Based on capacity: the higher the amount of flights handled compared to capacity of the airport, the higher efficiency\n",
    "\n",
    "3. Based on consistency: the more consistent teh delay rates are, the higher efficiency.\n",
    "\n",
    "4. Based on the context/external factors: consider factors such as weather, infrastructure quality, airspace congestion, political choices, etc. "
   ]
  }
 ],
 "metadata": {
  "kernelspec": {
   "display_name": "TIL6022-25",
   "language": "python",
   "name": "python3"
  },
  "language_info": {
   "codemirror_mode": {
    "name": "ipython",
    "version": 3
   },
   "file_extension": ".py",
   "mimetype": "text/x-python",
   "name": "python",
   "nbconvert_exporter": "python",
   "pygments_lexer": "ipython3",
   "version": "3.13.5"
  }
 },
 "nbformat": 4,
 "nbformat_minor": 5
}
