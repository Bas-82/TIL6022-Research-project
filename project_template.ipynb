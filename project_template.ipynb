{
 "cells": [
  {
   "cell_type": "markdown",
   "metadata": {},
   "source": [
    "# Project Group 11\n",
    "\n",
    "Members:  Hylke Bleeker, Jan-Pieter Vermeer, Alessandro Casati, Bas van den Muijsenberg, Mike Geerts\n"
   ]
  },
  {
   "cell_type": "markdown",
   "metadata": {},
   "source": [
    "# Research Objective\n",
    "\n",
    "## Analysis and delay prediction of flights across top 10 airports in Europe in 2023-24\n",
    "\n",
    "**Research Question**  \n",
    "What factors drive airport delays across the top 10 European airports in 2023-24, and can we build predictive models to identify possible delays for a flight using the information available?\n",
    "\n",
    "**Sub Questions**\n",
    "- What type of delays are occurring most at the airports?\n",
    "- Which airports experience the highest, the lowest delay, and most consistent delay rates?\n",
    "- How do delays relate to traffic volume and efficiency?\n",
    "- How do delays distribute geographically across Europe, and which airports stand out as persistent “delay hotspots”?\n",
    "- Which features (traffic levels, weekday/weekend, month, etc.) are the strongest predictors of high-delay days?\n",
    "- What model can predict the chance of delay and the amount delay for a flight?"
   ]
  },
  {
   "cell_type": "markdown",
   "metadata": {},
   "source": [
    "# Contribution Statement\n",
    "\n",
    "*Be specific. Some of the tasks can be coding (expect everyone to do this), background research, conceptualisation, visualisation, data analysis, data modelling*"
   ]
  },
  {
   "cell_type": "markdown",
   "metadata": {},
   "source": [
    "**Author 1**:\n",
    "\n",
    "**Author 2**:\n",
    "\n",
    "**Author 3**:"
   ]
  },
  {
   "cell_type": "markdown",
   "metadata": {},
   "source": [
    "# Data Used\n",
    "\n",
    "## Datasets\n",
    "| Dataset | Dataset description (function) | Columns needed |\n",
    "|---|---|---|\n",
    "| Airport Traffic | Airport capacity of inbound and outbound flights for network manager and airport operator | All |\n",
    "| Airport ATFM_Delay | The Airport Arrival ATFM Delay provides an indication of ATFM delays on the ground due to constraints at airports | FLT_DATE, APT_ICAO (to merge DB) + all the remaining types of delays |\n",
    "| Airport Punctuality | Daily performance tracker of airport punctuality, delays, and operational efficiency | All + add APT_ICAO for merging |\n",
    "| All_Pre_Departure_Delays | Daily overview of total pre-departure delay in minutes per airport that includes all delay causes | All |\n",
    "| ATC_Pre_Departure_Delay | Proxy for ATC induced delays at the departure stand (IATA delay code 89) | Pending (depends on data analysis findings) |\n",
    "| Additional taxi-out time | Taxi time from gate to runway and associated delay | All |\n",
    "| Additional taxi-in time | Taxi time from runway to gate and associated delay | All |\n",
    "\n",
    "## Information extracted from datasets\n",
    "| Dataset | Key Information |\n",
    "|---|---|\n",
    "| Airport Traffic | IFR arrivals, departures for Airport Operator and Network Manager |\n",
    "| Airport ATFM_Delay | Disruption type and count, number of delayed arrival flights |\n",
    "| Airport Punctuality | Arrival & departure punctuality %, avg delay (dep & arr), operated schedules % |\n",
    "| Pre_Departure_Delay | AO departures, AO pre-departure delay (minutes) |\n",
    "| Additional taxi-out time | Number of flights with available data + total taxi in time |\n",
    "| Additional taxi-in time | Number of flights with available data + total taxi out time |"
   ]
  },
  {
   "cell_type": "markdown",
   "metadata": {},
   "source": [
    "# Data Pipeline\n",
    "\n",
    "## Data Exploration & Cleaning\n",
    "- Import & clean the datasets: remove missing/invalid values, select only useful columns and merge.\n",
    "- Create basic delay metrics:\n",
    "  - Delay categories (On time, Delayed, Delayed15)\n",
    "  - Day category (Weekend, Weekdays)\n",
    "\n",
    "## Descriptive Data Analysis\n",
    "- Time patterns: heatmaps/line charts/stacked charts (delays by day, month, cause).\n",
    "- Geospatial view: interactive maps color-coded by average airport delay.\n",
    "- Efficiency scatterplots: traffic volume vs. % delay\n",
    "\n",
    "## Predictive Modeling\n",
    "- Predict delay occurrence for a flight using departure airport and its performances, average airport delay, weekday/weekend & month.\n",
    "- Models: Logistic Regression and/or Random Forest.\n",
    "- Testing with 2025 data (unseen during training).\n",
    "\n",
    "## Clustering & Patterns\n",
    "- Cluster airports by daily delay patterns (e.g., “always congested,” “seasonal peaks,” “mostly smooth”)."
   ]
  },
  {
   "cell_type": "markdown",
   "metadata": {},
   "source": []
  }
 ],
 "metadata": {
  "kernelspec": {
   "display_name": "Python 3",
   "language": "python",
   "name": "python3"
  },
  "language_info": {
   "name": "python",
   "version": "3.8.2"
  }
 },
 "nbformat": 4,
 "nbformat_minor": 2
}
