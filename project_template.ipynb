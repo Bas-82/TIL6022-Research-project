{
 "cells": [
  {
   "cell_type": "markdown",
   "metadata": {},
   "source": [
    "# Project Group 11\n",
    "\n",
    "Members:  Alessandro Casati (6544649),  Bas van den Muijsenberg (5797578) , Hylke Bleeker (5589355), Jan-Pieter Vermeer (6340261),  Mike Geerts (6276210)\n"
   ]
  },
  {
   "cell_type": "markdown",
   "metadata": {},
   "source": [
    "# Research Objective\n",
    "\n",
    "## Analysis and delay prediction of flights across top 20 airports in Europe in 2023-24\n",
    "\n",
    "**Research Question**  \n",
    "What factors drive airport delays across the top 10 European airports in 2023-24, and can we build predictive models to identify possible delays for a flight using the information available?\n",
    "\n",
    "**Sub Questions**\n",
    "- What type of delays are occurring most at the airports?\n",
    "- Which airports experience the highest, the lowest delay, and most consistent delay rates?\n",
    "- How do delays relate to traffic volume and efficiency?\n",
    "- How do delays distribute geographically across Europe, and which airports stand out as persistent “delay hotspots”?\n",
    "- Which features (traffic levels, weekday/weekend, month, etc.) are the strongest predictors of high-delay days?\n",
    "- What model can predict the chance of delay and the amount delay for a flight?"
   ]
  },
  {
   "cell_type": "markdown",
   "metadata": {},
   "source": [
    "# Contribution Statement\n",
    "\n",
    "*Be specific. Some of the tasks can be coding (expect everyone to do this), background research, conceptualisation, visualisation, data analysis, data modelling*"
   ]
  },
  {
   "cell_type": "markdown",
   "metadata": {},
   "source": [
    "**Author 1**:\n",
    "\n",
    "**Author 2**:\n",
    "\n",
    "**Author 3**:"
   ]
  },
  {
   "cell_type": "markdown",
   "metadata": {},
   "source": [
    "# Data Used\n",
    "\n",
    "## Datasets\n",
    "| Dataset | Dataset description (function) | Columns needed |\n",
    "|---|---|---|\n",
    "| Airport Traffic | Airport capacity of inbound and outbound flights for network manager and airport operator | All |\n",
    "| Airport ATFM_Delay | The Airport Arrival ATFM Delay provides an indication of ATFM delays on the ground due to constraints at airports | FLT_DATE, APT_ICAO (to merge DB) + all the remaining types of delays |\n",
    "| Airport Punctuality | Daily performance tracker of airport punctuality, delays, and operational efficiency | All + add APT_ICAO for merging |\n",
    "| All_Pre_Departure_Delays | Daily overview of total pre-departure delay in minutes per airport that includes all delay causes | All |\n",
    "| ATC_Pre_Departure_Delay | Proxy for ATC induced delays at the departure stand (IATA delay code 89) | Pending (depends on data analysis findings) |\n",
    "| Additional taxi-out time | Taxi time from gate to runway and associated delay | All |\n",
    "| Additional taxi-in time | Taxi time from runway to gate and associated delay | All |\n",
    "| Airport IATA delays | monthly flight delay information per airport by IATA delay cause | All |\n",
    "| Airport Reactionary delay delays | monthly flight reactionary delays as share of total network delays per airport | All |\n",
    "| Airport punctuality distribution | monthly flight punctuality statitics showcasing delayed, on-time and early departures | All |\n",
    "## Information extracted from datasets\n",
    "| Dataset | Key Information |\n",
    "|---|---|\n",
    "| Airport Traffic | IFR arrivals, departures for Airport Operator and Network Manager |\n",
    "| Airport ATFM_Delay | Disruption type and count, number of delayed arrival flights |\n",
    "| Airport Punctuality | Arrival & departure punctuality %, avg delay (dep & arr), operated schedules % |\n",
    "| Pre_Departure_Delay | AO departures, AO pre-departure delay (minutes) |\n",
    "| Additional taxi-out time | Number of flights with available data + total taxi in time |\n",
    "| Additional taxi-in time | Number of flights with available data + total taxi out time |"
   ]
  },
  {
   "cell_type": "markdown",
   "metadata": {},
   "source": [
    "# Data Pipeline\n",
    "\n",
    "## Data Exploration & Cleaning\n",
    "- Import & clean the datasets: remove missing/invalid values, select only useful columns and merge.\n",
    "- Create basic delay metrics:\n",
    "  - Delay categories (On time, Delayed, Delayed15)\n",
    "  - Day category (Weekend, Weekdays)\n",
    "\n",
    "## Descriptive Data Analysis\n",
    "- Time patterns: heatmaps/line charts/stacked charts (delays by day, month, cause).\n",
    "- Geospatial view: interactive maps color-coded by average airport delay.\n",
    "- Efficiency scatterplots: traffic volume vs. % delay\n",
    "\n",
    "## Predictive Modeling\n",
    "- Predict delay occurrence for a flight using departure airport and its performances, average airport delay, weekday/weekend & month.\n",
    "- Models: Logistic Regression and/or Random Forest.\n",
    "- Testing with 2025 data (unseen during training).\n",
    "\n",
    "## Clustering & Patterns\n",
    "- Cluster airports by daily delay patterns (e.g., “always congested,” “seasonal peaks,” “mostly smooth”)."
   ]
  },
  {
   "cell_type": "markdown",
   "metadata": {},
   "source": [
    "# Data Cleaning"
   ]
  },
  {
   "cell_type": "code",
   "execution_count": null,
   "metadata": {},
   "outputs": [],
   "source": [
    "import pandas as pd\n",
    "import numpy as np\n",
    "import matplotlib.pyplot as plt\n"
   ]
  },
  {
   "cell_type": "markdown",
   "metadata": {},
   "source": [
    "## TO-DO list, by Wed 8/10\n",
    "| Dataset | Key Information | Assigned to |\n",
    "|---|---|---|\n",
    "| Airport Traffic | Imported + top20 defined: missing total number of departures and arrivals | Ale |\n",
    "| Airport ATFM_Delay | Extract top20 aiports by comparing it with df_top10 and overall and sum for all the 2 years | Bas |\n",
    "| Airport Punctuality | Filter for 23-24, find top 20, compare with df_top20 (some airports might be missing), get all the columns | Mike |\n",
    "| Pre_Departure_Delay | TBD. is the data actually useful for our RQ, if yes extract top20 + last 5 columns | JP |\n",
    "| Additional taxi-out time | Extract top20 airports + TF, TOT_REF_NB_FL, TOT_REF&ADD_TIME_MIN, PIVOT_LABEL | Hylke |\n",
    "| Additional taxi-in time | Extract top20 airports + TF, TOT_REF_NB_FL, TOT_REF&ADD_TIME_MIN, PIVOT_LABEL | Hylke |\n",
    "\n",
    "Some comments: for now we focus on the totals for 2023-24 (combined). Watch out that some datasets don't have matching columns and you can't merge them together, you might need to compare them manually or use other references (especially for Punctuality dataset)"
   ]
  },
  {
   "cell_type": "markdown",
   "metadata": {},
   "source": [
    "## Airport Traffic\n",
    "Importing dataset"
   ]
  },
  {
   "cell_type": "code",
   "execution_count": null,
   "metadata": {},
   "outputs": [],
   "source": [
    "df_AT = pd.read_excel(\"datasets/AirportTraffic.xlsx\")\n",
    "df_TIn = pd.read_excel(\"datasets/Taxi-In_Additional_Time.xlsx\")\n",
    "df_TOut = pd.read_excel(\"datasets/Taxi-Out_Additional_Time.xlsx\")\n",
    "df_AAD = pd.read_excel(\"datasets/AA_ATFM_Delay.xlsx\")\n",
    "df_AP = pd.read_excel(\"datasets/Airports_Punctuality.xlsx\")\n",
    "df_AID= pd.read_excel(\"datasets/Airport_IATA_delays_airline_reported.xlsx\")\n",
    "df_PDD = pd.read_excel(\"datasets/Primary_departure_Delay_Causes_AP.xlsx\")\n",
    "df_FPD = pd.read_excel(\"datasets/Flight_Punctuality_Distribution.xlsx\")\n",
    "df_Ageo = pd.read_csv(\"datasets/Airport_Geo2.csv\", quoting=3, on_bad_lines=\"skip\")"
   ]
  },
  {
   "cell_type": "markdown",
   "metadata": {},
   "source": [
    "Find top 20 airports by total flights and create a new dataframe with key data"
   ]
  },
  {
   "cell_type": "code",
   "execution_count": null,
   "metadata": {},
   "outputs": [],
   "source": [
    "df_top20 = (\n",
    "    df_AT.groupby(\"APT_ICAO\")[[\"FLT_TOT_1\", \"FLT_DEP_1\", \"FLT_ARR_1\"]] #Group by airport code\n",
    "    .sum().sort_values(by=\"FLT_TOT_1\",ascending=False) #Sum the values for each code of the 3 columns indicated\n",
    "    .head(20).reset_index()) #Change \"20\" to change the number of airports analysed\n",
    "# Adding airport's city name and state from original dataset\n",
    "df_top20 = (df_top20.merge(df_AT[[\"APT_ICAO\", \"APT_NAME\", \"STATE_NAME\"]]\n",
    "                           .drop_duplicates(), on=\"APT_ICAO\", how=\"left\"))\n",
    "df_top20.head(20)"
   ]
  },
  {
   "cell_type": "markdown",
   "metadata": {},
   "source": [
    "# Airport ATFM_Delay"
   ]
  },
  {
   "cell_type": "markdown",
   "metadata": {},
   "source": [
    "Delay for every day and all top 20 airports.\n",
    "Removing Na, and only top 20 airports, sorted by airport traffic"
   ]
  },
  {
   "cell_type": "code",
   "execution_count": null,
   "metadata": {},
   "outputs": [],
   "source": [
    "df_AAD = df_AAD.dropna()\n",
    "df_AAD_top20 = df_AAD[df_AAD[\"APT_ICAO\"].isin(df_top20[\"APT_ICAO\"])]\n",
    "df_AAD_top20\n",
    "\n",
    "#Lists of code and names of top20 airports\n",
    "airports_name_list = df_top20[\"APT_NAME\"].tolist()\n",
    "airports_code_list = df_top20[\"APT_ICAO\"].tolist()\n",
    "\n",
    "#Dataframe of codes, useful for merging \n",
    "df_airport_codes = pd.DataFrame({'APT_ICAO': airports_code_list})\n",
    "\n",
    "df_AAD_top20 = df_AAD_top20.set_index(\"APT_ICAO\").loc[airports_code_list].reset_index()\n",
    "\n",
    "\n",
    "df_AAD_top20.head()"
   ]
  },
  {
   "cell_type": "markdown",
   "metadata": {},
   "source": [
    "Total delay for every airport "
   ]
  },
  {
   "cell_type": "code",
   "execution_count": null,
   "metadata": {},
   "outputs": [],
   "source": [
    "ATFM_cols = df_AAD.columns[7:27].tolist() #Columns neded\n",
    "\n",
    "df_AAD_total_delays_per_airport = (\n",
    "    df_AAD_top20[df_AAD_top20[\"APT_ICAO\"].isin(airports_code_list)].groupby([\"APT_ICAO\", \"APT_NAME\", \"STATE_NAME\"])[ATFM_cols]\n",
    "    .sum()\n",
    "    .reset_index()\n",
    ")\n",
    "\n",
    "order = df_top20[\"APT_ICAO\"].tolist()\n",
    "df_AAD_total_delays_per_airport = df_AAD_total_delays_per_airport.set_index(\"APT_ICAO\").loc[order].reset_index() #Do we care for the order?\n",
    "\n",
    "df_AAD_total_delays_per_airport"
   ]
  },
  {
   "cell_type": "code",
   "execution_count": null,
   "metadata": {},
   "outputs": [],
   "source": [
    "import pandas as pd\n",
    "from pathlib import Path\n",
    "\n",
    "#SETTINGS\n",
    "FILE = Path(\"datasets/AA_ATFM_Delay.xlsx\")\n",
    "SHEET = \"Blad1\"\n",
    "AIRPORTS_20 = [\n",
    "    \"LTFM\",\"EHAM\",\"EGLL\",\"LFPG\",\"EDDF\",\"LEMD\",\"LEBL\",\"EDDM\",\"LIRF\",\"EGKK\",\n",
    "    \"LSZH\",\"LGAV\",\"EIDW\",\"LOWW\",\"LEPA\",\"EKCH\",\"LPPT\",\"LTFJ\",\"LTAI\",\"ENGM\"\n",
    "]\n",
    "YEARS = [2023, 2024]   # use [2023] for only one year\n",
    "\n",
    "#setting the letter into what it is\n",
    "delay_mapping = {\n",
    "    \"A\": \"Accident/Incident\",\n",
    "    \"C\": \"ATC Capacity\",\n",
    "    \"D\": \"De-icing\",\n",
    "    \"E\": \"Equipment (non-ATC)\",\n",
    "    \"G\": \"Aerodrome Capacity\",\n",
    "    \"I\": \"Industrial Action (ATC)\",\n",
    "    \"M\": \"Airspace Management\",\n",
    "    \"N\": \"Industrial Action (non-ATC)\",\n",
    "    \"O\": \"Other\",\n",
    "    \"P\": \"Special Event\",\n",
    "    \"R\": \"ATC Routeing\",\n",
    "    \"S\": \"ATC Staffing\",\n",
    "    \"T\": \"Equipment (ATC)\",\n",
    "    \"V\": \"Environmental Issues\",\n",
    "    \"W\": \"Weather\",\n",
    "    \"NA\": \"Not specified\"\n",
    "}\n",
    "\n",
    "#LOAD & FILTER\n",
    "df = pd.read_excel(FILE, sheet_name=SHEET)\n",
    "df = df[df[\"YEAR\"].isin(YEARS) & df[\"APT_ICAO\"].isin(AIRPORTS_20)].copy()\n",
    "\n",
    "#what columns\n",
    "delay_cols = sorted([\n",
    "    c for c in df.columns\n",
    "    if c.startswith(\"DLY_APT_ARR_\") and c.endswith(\"_1\") and c != \"DLY_APT_ARR_1\"\n",
    "])\n",
    "\n",
    "#FIND MOST-OCCURRING TYPE PER (airport, year, month)(idk chat did this)\n",
    "occ = (df[delay_cols].fillna(0) > 0)\n",
    "group_keys = [\"APT_ICAO\", \"YEAR\", \"MONTH_NUM\"]\n",
    "counts = occ.groupby([df[k] for k in group_keys]).sum()\n",
    "\n",
    "best_col = counts.idxmax(axis=1)\n",
    "best_code = (best_col.str.replace(\"DLY_APT_ARR_\", \"\", regex=False)\n",
    "                      .str.replace(\"_1\", \"\", regex=False))\n",
    "\n",
    "#table making\n",
    "long_df = (\n",
    "    best_code.reset_index(name=\"delay_code\")\n",
    "    .assign(\n",
    "        Month=lambda d: d[\"YEAR\"].astype(str) + \"-\" + d[\"MONTH_NUM\"].astype(str).str.zfill(2),\n",
    "        delay_type=lambda d: d[\"delay_code\"].map(delay_mapping)\n",
    "    )\n",
    "    .loc[:, [\"Month\", \"APT_ICAO\", \"delay_type\"]]\n",
    "    .sort_values([\"APT_ICAO\", \"Month\"])\n",
    "    .set_index(\"Month\")\n",
    ")\n",
    "\n",
    "#printing, but maybe remove it before committing?\n",
    "display(long_df)\n",
    "print(\"Rows:\", len(long_df))\n",
    "\n",
    "\n",
    "\n"
   ]
  },
  {
   "cell_type": "code",
   "execution_count": null,
   "metadata": {},
   "outputs": [],
   "source": [
    "# --- SETTINGS ---\n",
    "FILE = Path(\"datasets/AA_ATFM_Delay.xlsx\")  # change if needed\n",
    "SHEET = \"Blad1\"\n",
    "AIRPORTS_20 = [\n",
    "    \"LTFM\",\"EHAM\",\"EGLL\",\"LFPG\",\"EDDF\",\"LEMD\",\"LEBL\",\"EDDM\",\"LIRF\",\"EGKK\",\n",
    "    \"LSZH\",\"LGAV\",\"EIDW\",\"LOWW\",\"LEPA\",\"EKCH\",\"LPPT\",\"LTFJ\",\"LTAI\",\"ENGM\"\n",
    "]\n",
    "YEARS = [2023, 2024]   # use [2023] if you only want one year\n",
    "\n",
    "#same as above\n",
    "df = pd.read_excel(FILE, sheet_name=SHEET)\n",
    "df = df[df[\"YEAR\"].isin(YEARS) & df[\"APT_ICAO\"].isin(AIRPORTS_20)].copy()\n",
    "\n",
    "#same as above\n",
    "delay_cols = sorted([\n",
    "    c for c in df.columns\n",
    "    if c.startswith(\"DLY_APT_ARR_\") and c.endswith(\"_1\") and c != \"DLY_APT_ARR_1\"\n",
    "])\n",
    "\n",
    "# Any day with value > 0 counts as an occurrence\n",
    "occ = (df[delay_cols].fillna(0) > 0)\n",
    "\n",
    "# Sum occurrences across the whole period, per airport\n",
    "counts = occ.groupby(df[\"APT_ICAO\"]).sum()\n",
    "\n",
    "def top_k_codes(row, k=3):\n",
    "    cols = row.nlargest(k).index.tolist()\n",
    "    return [c.replace(\"DLY_APT_ARR_\", \"\").replace(\"_1\", \"\") for c in cols]\n",
    "\n",
    "top = counts.apply(top_k_codes, axis=1, result_type=\"expand\")\n",
    "top.columns = [\"Most occurring\", \"Second most\", \"Third most\"]\n",
    "\n",
    "# Map letters -> descriptions\n",
    "top = top.map(lambda x: delay_mapping.get(x, x))\n",
    "\n",
    "# order airports as requested\n",
    "top = top.reindex(AIRPORTS_20)\n",
    "\n",
    "# show in VS Code / Jupyter\n",
    "display(top)\n"
   ]
  },
  {
   "cell_type": "markdown",
   "metadata": {},
   "source": [
    "Mean delay\n",
    "# Airport Punctuality"
   ]
  },
  {
   "cell_type": "code",
   "execution_count": null,
   "metadata": {},
   "outputs": [],
   "source": [
    "ATFM_cols = df_AAD.columns[7:27].tolist() #Columns needed\n",
    "\n",
    "df_AAD_mean_delays_per_airport = (\n",
    "    df_AAD_top20[df_AAD_top20['APT_ICAO'].isin(airports_code_list)]\n",
    "    .groupby(['APT_ICAO', 'APT_NAME', 'STATE_NAME'])[ATFM_cols]\n",
    "    .mean()\n",
    "    .reset_index()\n",
    ")\n",
    "\n",
    "order = df_top20['APT_ICAO'].tolist()\n",
    "df_AAD_mean_delays_per_airport = (\n",
    "    df_AAD_mean_delays_per_airport\n",
    "    .set_index('APT_ICAO')\n",
    "    .loc[order]\n",
    "    .reset_index()\n",
    ")\n",
    "\n",
    "df_AAD_mean_delays_per_airport"
   ]
  },
  {
   "cell_type": "markdown",
   "metadata": {},
   "source": [
    "# Taxi In & Out"
   ]
  },
  {
   "cell_type": "code",
   "execution_count": null,
   "metadata": {},
   "outputs": [],
   "source": [
    "df_taxi_time_in = (\n",
    "    df_TIn[(df_TIn[\"APT_ICAO\"].isin(airports_code_list)) & \n",
    "           ((df_TIn[\"YEAR\"] == 2023) | (df_TIn[\"YEAR\"] == 2024))]\n",
    "    .groupby(\"APT_ICAO\")[[\"VALID_FL\", \"TOTAL_REF_NB_FL\", \"TOTAL_REF_TIME_MIN\", \"TOTAL_ADD_TIME_MIN\"]]\n",
    "    .sum()\n",
    "    .reset_index()\n",
    ")\n",
    "#In order: filter only airports in top 20, filter only values from 2023-24, group by code and sum the values in the \n",
    "#listed columns, reset the index to have the codes as a column itselft (useful for merging)\n",
    "\n",
    "# Rename the columns to for in values\n",
    "in_cols_to_rename = {\n",
    "    \"VALID_FL\": \"VALID_FL_IN\",\n",
    "    \"TOTAL_REF_NB_FL\": \"TOTAL_REF_NB_FL_IN\",\n",
    "    \"TOTAL_REF_TIME_MIN\": \"TOT_REF_TIME_MIN_IN\",\n",
    "    \"TOTAL_ADD_TIME_MIN\": \"TOT_ADD_TIME_MIN_IN\"\n",
    "}\n",
    "df_taxi_time_in = df_taxi_time_in.rename(columns=in_cols_to_rename)\n",
    "\n",
    "# Merging taxi with airport codes\n",
    "df_taxi_time_final = pd.merge(df_airport_codes, df_taxi_time_in, on='APT_ICAO', how='left')\n"
   ]
  },
  {
   "cell_type": "code",
   "execution_count": null,
   "metadata": {},
   "outputs": [],
   "source": [
    "df_taxi_time_out = (\n",
    "    df_TOut[(df_TOut[\"APT_ICAO\"].isin(airports_code_list)) & \n",
    "           ((df_TOut[\"YEAR\"] == 2023) | (df_TOut[\"YEAR\"] == 2024))]\n",
    "    .groupby(\"APT_ICAO\")[[\"VALID_FL\", \"TOTAL_REF_NB_FL\", \"TOTAL_REF_TIME_MIN\", \"TOTAL_ADD_TIME_MIN\"]]\n",
    "    .sum()\n",
    "    .reset_index()\n",
    ")\n",
    "#Same operations as df_taxi_time_in\n",
    "\n",
    "# Rename the columns to for out values\n",
    "out_cols_to_rename = {\n",
    "    \"VALID_FL\": \"VALID_FL_OUT\",\n",
    "    \"TOTAL_REF_NB_FL\": \"TOTAL_REF_NB_FL_OUT\",\n",
    "    \"TOTAL_REF_TIME_MIN\": \"TOT_REF_TIME_MIN_OUT\",\n",
    "    \"TOTAL_ADD_TIME_MIN\": \"TOT_ADD_TIME_MIN_OUT\"\n",
    "}\n",
    "df_taxi_time_out = df_taxi_time_out.rename(columns=out_cols_to_rename)\n",
    "\n",
    "# Merging taxi in with taxi out\n",
    "df_taxi_time = pd.merge(df_taxi_time_final, df_taxi_time_out, on='APT_ICAO', how='left')\n",
    "\n",
    "df_taxi_time.head()"
   ]
  },
  {
   "cell_type": "markdown",
   "metadata": {},
   "source": [
    "# Airport Punctionality"
   ]
  },
  {
   "cell_type": "code",
   "execution_count": null,
   "metadata": {},
   "outputs": [],
   "source": [
    "airport_map = {\n",
    "    \"LTFM\": \"Istanbul\",\n",
    "    \"EHAM\": \"Amsterdam\",\n",
    "    \"EGLL\": \"London Heathrow\",\n",
    "    \"LFPG\": \"Paris Charles de Gaulle\",\n",
    "    \"EDDF\": \"Frankfurt\",\n",
    "    \"LEMD\": \"Madrid Barajas\",\n",
    "    \"LEBL\": \"Barcelona\",\n",
    "    \"EDDM\": \"Munich\",\n",
    "    \"LIRF\": \"Rome Fiumicino\",\n",
    "    \"EGKK\": \"London Gatwick\",\n",
    "    \"LSZH\": \"Zurich\",\n",
    "    \"LGAV\": \"Athens\",\n",
    "    \"EIDW\": \"Dublin\",\n",
    "    \"LOWW\": \"Vienna\",\n",
    "    \"LEPA\": \"Palma de Mallorca\",\n",
    "    \"EKCH\": \"Copenhagen\",\n",
    "    \"LPPT\": \"Lisbon\",\n",
    "    \"LTFJ\": \"Istanbul Sabiha Gokcen\",\n",
    "    \"LTAI\": \"Antalya\",\n",
    "    \"ENGM\": \"Oslo\"\n",
    "}\n",
    "\n",
    "top20_codes = [airport_map[a] for a in df_top20['APT_ICAO'] if a in airport_map]\n",
    "df_AP_top20 = df_AP[df_AP['Airport'].isin(top20_codes)]\n",
    "\n",
    "name_to_icao = {name: icao for icao, name in airport_map.items()}\n",
    "icao_codes = df_AP_top20[\"Airport\"].map(name_to_icao)\n",
    "df_AP_top20.insert(loc=2, column=\"APT_ICAO\", value=df_AP_top20[\"Airport\"].map(name_to_icao))\n",
    "\n",
    "df_AP_top20"
   ]
  },
  {
   "cell_type": "markdown",
   "metadata": {},
   "source": [
    "## Primary Departure Causes\n",
    "Dataset contains sum of total delay per main category (airline, airport, En Route, Miscellaneous, Government, Weather) per airport\n"
   ]
  },
  {
   "cell_type": "code",
   "execution_count": null,
   "metadata": {},
   "outputs": [],
   "source": [
    "df_PDD_TOP20 = (\n",
    "    df_PDD[df_PDD[\"APT_ICAO\"].isin(airports_code_list)]\n",
    ")\n",
    "\n",
    "df_PDD_summary = (\n",
    "    df_PDD_TOP20\n",
    "    .groupby([\"Year\",\"APT_ICAO\"], as_index=False)\n",
    "    .agg({\n",
    "        \"Airline\": \"sum\",\n",
    "        \"En_Route\": \"sum\",\n",
    "        \"Miscellaneous\": \"sum\",\n",
    "        \"Government\": \"sum\",\n",
    "        \"Weather\": \"sum\",\n",
    "        \"Total\": \"sum\" # SUM IS NOT EQUAL TO ACTUAL SUM AFTER DATA TRUNCTION --> needs investigation ; maybe calculate sum in python\n",
    "    })\n",
    "    .sort_values(by=\"Total\", ascending=False)   \n",
    "    .reset_index(drop=True)\n",
    ")\n",
    "\n",
    "df_PDD_summary.head()"
   ]
  },
  {
   "cell_type": "markdown",
   "metadata": {},
   "source": [
    "## Airport IATA delays\n",
    "Year lobt = Year of the Last Off-Block Time (LOBT) \\\n",
    "TD = Total Delay (minutes) \\\n",
    "TF = Total Flights affected \\\n",
    "Total Flights Period = total number of flights in that airport/period \\\n",
    "ADM = Average Delay per Movement = TD/Total Flight Period  (minutes per total flight)\n",
    "Total Delay Period = Total delay minutes (all causes) for the period \\\n",
    "PD = Proportion of delay = (TD / Total Delay Period)*100\n",
    "Delay rate = TF / Total flight period\n"
   ]
  },
  {
   "cell_type": "code",
   "execution_count": null,
   "metadata": {},
   "outputs": [],
   "source": [
    "df_AID.head()"
   ]
  },
  {
   "cell_type": "code",
   "execution_count": null,
   "metadata": {},
   "outputs": [],
   "source": [
    "# Filter the delay dataset for only the top 20 airports\n",
    "df_AID_TOP20 = df_AID[df_AID[\"APT_ICAO\"].isin(airports_code_list)].copy()\n",
    "\n",
    "# Calculate delay ratio as percentage\n",
    "df_AID_TOP20[\"Delay_Ratio\"] = (df_AID_TOP20[\"TF\"] / df_AID_TOP20[\"Total_Flights_Period\"]) * 100\n",
    "\n",
    "# Provide key insights per year per month per airport\n",
    "df_AID_TOP20_YMA = (\n",
    "    df_AID_TOP20\n",
    "    .groupby([\"Year_Lobt\",\"Month_Lobt\",\"APT_ICAO\"], as_index=False)\n",
    "    .agg({\n",
    "        \"TD\": \"sum\",\n",
    "        \"TF\": \"sum\",\n",
    "        \"Total_Flights_Period\": \"sum\",\n",
    "        \"adm\": \"mean\",\n",
    "        \"pd\": \"mean\",\n",
    "        \"Delay_Ratio\": \"mean\" \n",
    "    })\n",
    "    .sort_values(by=\"TF\", ascending=False)\n",
    "    .rename(columns={\n",
    "        \"TD\": \"Total Delay (TD)\",\n",
    "        \"TF\": \"Total Flights (TF)\",\n",
    "        \"Total_Flights_Period\": \"Total_Flights_Period\",\n",
    "        \"adm\": \"Avg Delay per Movement (in min)\",\n",
    "        \"pd\": \"Avg Proportion of Delay (%)\",\n",
    "        \"Delay_Rate\": \"Avg Delay Ratio (%)\"\n",
    "    })\n",
    "    .reset_index(drop=True)\n",
    ")\n",
    "\n",
    "display(df_AID_TOP20_YMA)"
   ]
  },
  {
   "cell_type": "code",
   "execution_count": null,
   "metadata": {},
   "outputs": [],
   "source": [
    "import plotly.express as px\n",
    "import ipywidgets as widgets\n",
    "from IPython.display import display"
   ]
  },
  {
   "cell_type": "code",
   "execution_count": null,
   "metadata": {},
   "outputs": [],
   "source": [
    "df_AID_TOP20_YMA = df_AID_TOP20_YMA.rename(columns={\n",
    "    \"Delay_Ratio\": \"Avg Delay Ratio (%)\"\n",
    "})\n",
    "\n",
    "# month order\n",
    "month_order = [\n",
    "    \"January\", \"February\", \"March\", \"April\", \"May\", \"June\",\n",
    "    \"July\", \"August\", \"September\", \"October\", \"November\", \"December\"\n",
    "]\n",
    "\n",
    "# Aggregate dataframe for line chart\n",
    "df_avg = (\n",
    "    df_AID_TOP20_YMA\n",
    "    .groupby([\"Year_Lobt\", \"Month_Lobt\", \"APT_ICAO\"], as_index=False)[[\"Avg Delay Ratio (%)\"]]\n",
    "    .mean()\n",
    ")\n",
    "\n",
    "# Month lobt follows chronological order\n",
    "df_avg[\"Month_Lobt\"] = pd.Categorical(df_avg[\"Month_Lobt\"], categories=month_order, ordered=True)\n",
    "\n",
    "# all_airport order\n",
    "df_all_avg = (\n",
    "    df_avg.groupby([\"Year_Lobt\", \"Month_Lobt\"], as_index=False)[[\"Avg Delay Ratio (%)\"]]\n",
    "    .mean()\n",
    ")\n",
    "df_all_avg[\"APT_ICAO\"] = \"ALL\"\n",
    "\n",
    "# Combine & sort\n",
    "df_plot = pd.concat([df_avg, df_all_avg], ignore_index=True)\n",
    "df_plot = df_plot.sort_values([\"APT_ICAO\", \"Year_Lobt\", \"Month_Lobt\"])\n",
    "\n",
    "# Plot function with airport filter\n",
    "def plot_delay_ratio(selected_airport=\"ALL\"):\n",
    "    if selected_airport == \"ALL\":\n",
    "        dff = df_plot[df_plot[\"APT_ICAO\"] == \"ALL\"]\n",
    "        title = \"Average Delay Ratio by Month — All Airports\"\n",
    "    else:\n",
    "        dff = df_plot[df_plot[\"APT_ICAO\"] == selected_airport]\n",
    "        title = f\"Average Delay Ratio by Month — {selected_airport}\"\n",
    "    \n",
    "    # Plot one line per year — break lines for missing months\n",
    "    fig = px.line(\n",
    "        dff,\n",
    "        x=\"Month_Lobt\",\n",
    "        y=\"Avg Delay Ratio (%)\",\n",
    "        color=\"Year_Lobt\",\n",
    "        markers=True,\n",
    "        line_shape=\"linear\", \n",
    "        title=title,\n",
    "        labels={\n",
    "            \"Month_Lobt\": \"Month\",\n",
    "            \"Avg Delay Ratio (%)\": \"Average Delay Ratio (%)\",\n",
    "            \"Year_Lobt\": \"Year\"\n",
    "        }\n",
    "    )\n",
    "\n",
    "\n",
    "    # Clean layout\n",
    "    fig.update_layout(\n",
    "        template=\"plotly_white\",\n",
    "        xaxis=dict(categoryorder=\"array\", categoryarray=month_order),\n",
    "        yaxis_title=\"Average Delay Ratio (%)\",\n",
    "        hovermode=\"x unified\",\n",
    "        xaxis_tickangle=-45,\n",
    "        legend_title=\"Year\"\n",
    "    )\n",
    "\n",
    "    fig.show()\n",
    "\n",
    "\n",
    "# Dropdown for airport selection\n",
    "airport_list = [\"ALL\"] + sorted(df_AID_TOP20_YMA[\"APT_ICAO\"].unique())\n",
    "\n",
    "dropdown = widgets.Dropdown(\n",
    "    options=airport_list,\n",
    "    value=\"ALL\",\n",
    "    description=\"Airport:\",\n",
    "    style={'description_width': 'initial'},\n",
    "    layout=widgets.Layout(width='40%')\n",
    ")\n",
    "\n",
    "widgets.interact(plot_delay_ratio, selected_airport=dropdown)"
   ]
  },
  {
   "cell_type": "markdown",
   "metadata": {},
   "source": [
    "## Flight Punctuality Distribution"
   ]
  },
  {
   "cell_type": "code",
   "execution_count": null,
   "metadata": {},
   "outputs": [],
   "source": [
    "# filter the delay dataset for only the top 20 airports\n",
    "df_FPD = (\n",
    "    df_FPD[df_FPD[\"APT_ICAO\"].isin(airports_code_list)]\n",
    ")\n",
    "df_FPD.head()"
   ]
  },
  {
   "cell_type": "markdown",
   "metadata": {},
   "source": [
    "## Geo location"
   ]
  },
  {
   "cell_type": "code",
   "execution_count": null,
   "metadata": {},
   "outputs": [],
   "source": [
    "df_Ageo.head(1)"
   ]
  },
  {
   "cell_type": "code",
   "execution_count": null,
   "metadata": {},
   "outputs": [],
   "source": [
    "df_Ageo_top20 = df_Ageo[df_Ageo[\"ident\"].isin(df_top20[\"APT_ICAO\"])]\n",
    "df_Ageo_top20 = df_Ageo_top20.reset_index()\n",
    "\n",
    "# Only useful columns\n",
    "df_Ageo_top20 = df_Ageo_top20[[\"ident\", \"name\", \"latitude_deg\", \"longitude_deg\", \"elevation_ft\"]]\n",
    "\n",
    "df_Ageo_top20.to_csv(\"datasets_rq4/df_Ageo_top20.csv\")\n",
    "df_Ageo_top20\n",
    "\n"
   ]
  }
 ],
 "metadata": {
  "kernelspec": {
   "display_name": "TIL6022-25",
   "language": "python",
   "name": "python3"
  },
  "language_info": {
   "codemirror_mode": {
    "name": "ipython",
    "version": 3
   },
   "file_extension": ".py",
   "mimetype": "text/x-python",
   "name": "python",
   "nbconvert_exporter": "python",
   "pygments_lexer": "ipython3",
   "version": "3.13.5"
  }
 },
 "nbformat": 4,
 "nbformat_minor": 2
}
