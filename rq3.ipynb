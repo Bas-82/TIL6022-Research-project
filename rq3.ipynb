{
 "cells": [
  {
   "cell_type": "markdown",
   "id": "d30d631a",
   "metadata": {},
   "source": [
    "# How do delays relate to traffic volume and airport performances? \n",
    "\n",
    "We need to analyze first:\n",
    "- Delay rate (calculate from df_AID): total delays/total flights per airport per month\n",
    "- Traffic volume: total flights \n",
    "And then deep dive into aiport performances:  \n",
    "- Efficiencies: consistency coefficient (from Q2), taxi in & out efficiency (TOTAL_REF_TIME_MIN + TOTAL_ADD_TIME_MIN)/VALID_FL, Departure Punctuality %, Arrival Punctuality % "
   ]
  },
  {
   "cell_type": "code",
   "execution_count": null,
   "id": "659f7f87",
   "metadata": {},
   "outputs": [],
   "source": [
    "#Importing all libraries needed\n",
    "import pandas as pd\n",
    "import plotly.express as px\n",
    "import ipywidgets as widgets\n",
    "from IPython.display import display"
   ]
  },
  {
   "cell_type": "code",
   "execution_count": null,
   "id": "38d914bc",
   "metadata": {},
   "outputs": [],
   "source": [
    "#Datasets used\n",
    "df_AID= pd.read_excel(\"datasets/Airport_IATA_delays_airline_reported.xlsx\")\n",
    "df_AT = pd.read_excel(\"datasets/AirportTraffic.xlsx\")\n",
    "df_TIn = pd.read_excel(\"datasets/Taxi-In_Additional_Time.xlsx\")\n",
    "df_TOut = pd.read_excel(\"datasets/Taxi-Out_Additional_Time.xlsx\")\n",
    "df_AP = pd.read_excel(\"datasets/Airports_Punctuality.xlsx\")"
   ]
  },
  {
   "cell_type": "code",
   "execution_count": null,
   "id": "df77b17f",
   "metadata": {},
   "outputs": [],
   "source": [
    "df_top20 = (\n",
    "    df_AT.groupby(\"APT_ICAO\")[[\"FLT_TOT_1\", \"FLT_DEP_1\", \"FLT_ARR_1\"]] #Group by airport code\n",
    "    .sum().sort_values(by=\"FLT_TOT_1\",ascending=False) #Sum the values for each code of the 3 columns indicated\n",
    "    .head(20).reset_index()) #Change \"20\" to change the number of airports analysed\n",
    "\n",
    "# Adding airport's city name and state from original dataset\n",
    "df_top20 = (df_top20.merge(df_AT[[\"APT_ICAO\", \"APT_NAME\", \"STATE_NAME\"]]\n",
    "                           .drop_duplicates(), on=\"APT_ICAO\", how=\"left\"))\n",
    "airports_code_list = df_top20[\"APT_ICAO\"].tolist()"
   ]
  },
  {
   "cell_type": "markdown",
   "id": "00601742",
   "metadata": {},
   "source": [
    "Let's find the delay rate as the ratio between total delayed flights and total flights, for each of the 20 airports, in every month between 2023 and 2024"
   ]
  },
  {
   "cell_type": "code",
   "execution_count": null,
   "id": "918659c3",
   "metadata": {},
   "outputs": [],
   "source": [
    "# Filter the delay dataset for only the top 20 airports\n",
    "df_AID_TOP20 = df_AID[df_AID[\"APT_ICAO\"].isin(airports_code_list)].copy()\n",
    "\n",
    "# Calculate delay ratio as percentage\n",
    "df_AID_TOP20[\"Delay_Ratio\"] = (df_AID_TOP20[\"TF\"] / df_AID_TOP20[\"Total_Flights_Period\"]) * 100\n",
    "\n",
    "# Provide key insights per year per month per airport\n",
    "df_AID_TOP20_YMA = (\n",
    "    df_AID_TOP20\n",
    "    .groupby([\"Year_Lobt\",\"Month_Lobt\",\"APT_ICAO\"], as_index=False)\n",
    "    .agg({\n",
    "        \"TD\": \"sum\",\n",
    "        \"TF\": \"sum\",\n",
    "        \"Total_Flights_Period\": \"sum\",\n",
    "        \"adm\": \"mean\",\n",
    "        \"pd\": \"mean\",\n",
    "        \"Delay_Ratio\": \"mean\" \n",
    "    })\n",
    "    .sort_values(by=\"TF\", ascending=False)\n",
    "    .rename(columns={\n",
    "        \"TD\": \"Total Delay (TD)\",\n",
    "        \"TF\": \"Total Flights (TF)\",\n",
    "        \"Total_Flights_Period\": \"Total_Flights_Period\",\n",
    "        \"adm\": \"Avg Delay per Movement (in min)\",\n",
    "        \"pd\": \"Avg Proportion of Delay (%)\",\n",
    "        \"Delay_Rate\": \"Avg Delay Ratio (%)\"\n",
    "    })\n",
    "    .reset_index(drop=True)\n",
    "    .sort_values([\"APT_ICAO\", \"Year_Lobt\"])\n",
    ")\n",
    "display(df_AID_TOP20_YMA)"
   ]
  },
  {
   "cell_type": "markdown",
   "id": "292a695f",
   "metadata": {},
   "source": [
    "This dataframe contains both the delay rate (Delay_Ratio) and the total flights (Total_Flights_Period).\n",
    "For the performances we consider:\n",
    "- consistency coefficient (from Q2) \n",
    "- taxi in & out efficiency (TOTAL_REF_TIME_MIN + TOTAL_ADD_TIME_MIN)/VALID_FL\n",
    "- Departure and Arrival Punctuality % "
   ]
  },
  {
   "cell_type": "code",
   "execution_count": 82,
   "id": "74a1d875",
   "metadata": {},
   "outputs": [
    {
     "data": {
      "text/plain": [
       "'Consistency coefficient code missing'"
      ]
     },
     "execution_count": 82,
     "metadata": {},
     "output_type": "execute_result"
    }
   ],
   "source": [
    "'''Consistency coefficient code missing'''"
   ]
  },
  {
   "cell_type": "markdown",
   "id": "a75b5748",
   "metadata": {},
   "source": [
    "Taxis efficiencies: import and cleaning datasets"
   ]
  },
  {
   "cell_type": "code",
   "execution_count": 12,
   "id": "1cfc8933",
   "metadata": {},
   "outputs": [],
   "source": [
    "df_TIn = pd.read_excel(\"datasets/Taxi-In_Additional_Time.xlsx\")\n",
    "df_TOut = pd.read_excel(\"datasets/Taxi-Out_Additional_Time.xlsx\")"
   ]
  },
  {
   "cell_type": "code",
   "execution_count": null,
   "id": "f072a837",
   "metadata": {},
   "outputs": [],
   "source": [
    "df_taxi_time_in = (\n",
    "    df_TIn[(df_TIn[\"APT_ICAO\"].isin(airports_code_list)) & \n",
    "           ((df_TIn[\"YEAR\"] == 2023) | (df_TIn[\"YEAR\"] == 2024))]\n",
    "    .groupby([\"APT_ICAO\", \"YEAR\"])[[\"VALID_FL\", \"TOTAL_REF_NB_FL\", \"TOTAL_REF_TIME_MIN\", \"TOTAL_ADD_TIME_MIN\"]]\n",
    "    .sum()\n",
    "    .reset_index()\n",
    ")\n",
    "#In order: filter only airports in top 20, filter only values from 2023-24, group by code and sum the values in the \n",
    "#listed columns, reset the index to have the codes as a column itselft (useful for merging)\n",
    "\n",
    "df_airport_codes = pd.DataFrame({'APT_ICAO': airports_code_list})\n",
    "# Merging taxi with airport codes\n",
    "df_taxi_time_in = pd.merge(df_airport_codes, df_taxi_time_in, on='APT_ICAO', how='left')\n",
    "df_taxi_time_in[\"TI_EFF\"] = (df_taxi_time_in[\"TOTAL_REF_TIME_MIN\"] + df_taxi_time_in[\"TOTAL_ADD_TIME_MIN\"])/df_taxi_time_in[\"VALID_FL\"] #Minutes per flight\n",
    "df_taxi_time_in.head()"
   ]
  },
  {
   "cell_type": "code",
   "execution_count": null,
   "id": "7f2a7923",
   "metadata": {},
   "outputs": [],
   "source": [
    "df_taxi_time_out = (\n",
    "    df_TOut[(df_TOut[\"APT_ICAO\"].isin(airports_code_list)) & \n",
    "           ((df_TOut[\"YEAR\"] == 2023) | (df_TOut[\"YEAR\"] == 2024))]\n",
    "    .groupby([\"APT_ICAO\", \"YEAR\"])[[\"VALID_FL\", \"TOTAL_REF_NB_FL\", \"TOTAL_REF_TIME_MIN\", \"TOTAL_ADD_TIME_MIN\"]]\n",
    "    .sum()\n",
    "    .reset_index()\n",
    ")\n",
    "\n",
    "# Merging taxi in with taxi out\n",
    "df_taxi_time_out = pd.merge(df_airport_codes, df_taxi_time_out, on='APT_ICAO', how='left').dropna()\n",
    "df_taxi_time_out[\"TO_EFF\"] = (df_taxi_time_out[\"TOTAL_ADD_TIME_MIN\"] + df_taxi_time_out[\"TOTAL_REF_TIME_MIN\"])/df_taxi_time_out[\"VALID_FL\"] #Minutes per flight\n",
    "df_taxi_time_out.head()"
   ]
  },
  {
   "cell_type": "markdown",
   "id": "23071d7d",
   "metadata": {},
   "source": [
    "Merging the datasets and removing unnecessary columns "
   ]
  },
  {
   "cell_type": "code",
   "execution_count": null,
   "id": "ce6145a8",
   "metadata": {},
   "outputs": [],
   "source": [
    "df_tt_efficiencies = pd.merge(df_taxi_time_out, df_taxi_time_in, on=[\"APT_ICAO\", \"YEAR\"], how=\"left\")\n",
    "tt_cols_todrop = [\"VALID_FL_x\", \"TOTAL_REF_NB_FL_x\", \"TOTAL_REF_TIME_MIN_x\", \"TOTAL_ADD_TIME_MIN_x\", \"VALID_FL_y\", \"TOTAL_REF_NB_FL_y\", \"TOTAL_REF_TIME_MIN_y\", \"TOTAL_ADD_TIME_MIN_y\"]\n",
    "df_tt_efficiencies = df_tt_efficiencies.drop(columns=tt_cols_todrop, axis=1)\n",
    "df_tt_efficiencies.head()"
   ]
  },
  {
   "cell_type": "markdown",
   "id": "f7174a5b",
   "metadata": {},
   "source": [
    "Depart & Arrival Punctualities"
   ]
  },
  {
   "cell_type": "code",
   "execution_count": null,
   "id": "fc2cab2b",
   "metadata": {},
   "outputs": [],
   "source": [
    "airport_map = {\n",
    "    \"LTFM\": \"Istanbul\",\n",
    "    \"EHAM\": \"Amsterdam\",\n",
    "    \"EGLL\": \"London Heathrow\",\n",
    "    \"LFPG\": \"Paris Charles de Gaulle\",\n",
    "    \"EDDF\": \"Frankfurt\",\n",
    "    \"LEMD\": \"Madrid Barajas\",\n",
    "    \"LEBL\": \"Barcelona\",\n",
    "    \"EDDM\": \"Munich\",\n",
    "    \"LIRF\": \"Rome Fiumicino\",\n",
    "    \"EGKK\": \"London Gatwick\",\n",
    "    \"LSZH\": \"Zurich\",\n",
    "    \"LGAV\": \"Athens\",\n",
    "    \"EIDW\": \"Dublin\",\n",
    "    \"LOWW\": \"Vienna\",\n",
    "    \"LEPA\": \"Palma de Mallorca\",\n",
    "    \"EKCH\": \"Copenhagen\",\n",
    "    \"LPPT\": \"Lisbon\",\n",
    "    \"LTFJ\": \"Istanbul Sabiha Gokcen\",\n",
    "    \"LTAI\": \"Antalya\",\n",
    "    \"ENGM\": \"Oslo\"\n",
    "} #Dataset has different names from the ones used before"
   ]
  },
  {
   "cell_type": "code",
   "execution_count": null,
   "id": "cc538d1c",
   "metadata": {},
   "outputs": [],
   "source": [
    "top20_codes = [airport_map[a] for a in df_top20['APT_ICAO'] if a in airport_map]\n",
    "df_AP_top20 = df_AP[df_AP['Airport'].isin(top20_codes)]\n",
    "\n",
    "name_to_icao = {name: icao for icao, name in airport_map.items()}\n",
    "icao_codes = df_AP_top20[\"Airport\"].map(name_to_icao)\n",
    "df_AP_top20.insert(loc=2, column=\"APT_ICAO\", value=df_AP_top20[\"Airport\"].map(name_to_icao))\n",
    "\n",
    "df_AP_top20.head()"
   ]
  },
  {
   "cell_type": "markdown",
   "id": "81487e5e",
   "metadata": {},
   "source": [
    "Adding the month and year column from the date one"
   ]
  },
  {
   "cell_type": "code",
   "execution_count": null,
   "id": "77c6df02",
   "metadata": {},
   "outputs": [],
   "source": [
    "df_AP_top20[\"Year\"] = df_AP_top20[\"Date\"].dt.year.astype(str)\n",
    "df_AP_top20[\"Month\"] = df_AP_top20[\"Date\"].dt.month.apply(lambda x: f'{x:02d}')"
   ]
  },
  {
   "cell_type": "markdown",
   "id": "47acba33",
   "metadata": {},
   "source": [
    "Filtering the dataset and dropping unnecessary columns"
   ]
  },
  {
   "cell_type": "code",
   "execution_count": 81,
   "id": "9c424f2f",
   "metadata": {},
   "outputs": [
    {
     "data": {
      "text/html": [
       "<div>\n",
       "<style scoped>\n",
       "    .dataframe tbody tr th:only-of-type {\n",
       "        vertical-align: middle;\n",
       "    }\n",
       "\n",
       "    .dataframe tbody tr th {\n",
       "        vertical-align: top;\n",
       "    }\n",
       "\n",
       "    .dataframe thead th {\n",
       "        text-align: right;\n",
       "    }\n",
       "</style>\n",
       "<table border=\"1\" class=\"dataframe\">\n",
       "  <thead>\n",
       "    <tr style=\"text-align: right;\">\n",
       "      <th></th>\n",
       "      <th>APT_ICAO</th>\n",
       "      <th>Year</th>\n",
       "      <th>Month</th>\n",
       "      <th>Departure Punctuality %</th>\n",
       "      <th>Arrival Punctuality %</th>\n",
       "    </tr>\n",
       "  </thead>\n",
       "  <tbody>\n",
       "    <tr>\n",
       "      <th>0</th>\n",
       "      <td>EDDF</td>\n",
       "      <td>2023</td>\n",
       "      <td>01</td>\n",
       "      <td>0.667677</td>\n",
       "      <td>0.784448</td>\n",
       "    </tr>\n",
       "    <tr>\n",
       "      <th>1</th>\n",
       "      <td>EDDF</td>\n",
       "      <td>2023</td>\n",
       "      <td>02</td>\n",
       "      <td>0.636383</td>\n",
       "      <td>0.766183</td>\n",
       "    </tr>\n",
       "    <tr>\n",
       "      <th>2</th>\n",
       "      <td>EDDF</td>\n",
       "      <td>2023</td>\n",
       "      <td>03</td>\n",
       "      <td>0.532972</td>\n",
       "      <td>0.701877</td>\n",
       "    </tr>\n",
       "    <tr>\n",
       "      <th>3</th>\n",
       "      <td>EDDF</td>\n",
       "      <td>2023</td>\n",
       "      <td>04</td>\n",
       "      <td>0.659708</td>\n",
       "      <td>0.754957</td>\n",
       "    </tr>\n",
       "    <tr>\n",
       "      <th>4</th>\n",
       "      <td>EDDF</td>\n",
       "      <td>2023</td>\n",
       "      <td>05</td>\n",
       "      <td>0.589679</td>\n",
       "      <td>0.602905</td>\n",
       "    </tr>\n",
       "    <tr>\n",
       "      <th>...</th>\n",
       "      <td>...</td>\n",
       "      <td>...</td>\n",
       "      <td>...</td>\n",
       "      <td>...</td>\n",
       "      <td>...</td>\n",
       "    </tr>\n",
       "    <tr>\n",
       "      <th>475</th>\n",
       "      <td>LTFM</td>\n",
       "      <td>2024</td>\n",
       "      <td>08</td>\n",
       "      <td>0.636076</td>\n",
       "      <td>0.671603</td>\n",
       "    </tr>\n",
       "    <tr>\n",
       "      <th>476</th>\n",
       "      <td>LTFM</td>\n",
       "      <td>2024</td>\n",
       "      <td>09</td>\n",
       "      <td>0.680400</td>\n",
       "      <td>0.713811</td>\n",
       "    </tr>\n",
       "    <tr>\n",
       "      <th>477</th>\n",
       "      <td>LTFM</td>\n",
       "      <td>2024</td>\n",
       "      <td>10</td>\n",
       "      <td>0.778200</td>\n",
       "      <td>0.783877</td>\n",
       "    </tr>\n",
       "    <tr>\n",
       "      <th>478</th>\n",
       "      <td>LTFM</td>\n",
       "      <td>2024</td>\n",
       "      <td>11</td>\n",
       "      <td>0.821263</td>\n",
       "      <td>0.825065</td>\n",
       "    </tr>\n",
       "    <tr>\n",
       "      <th>479</th>\n",
       "      <td>LTFM</td>\n",
       "      <td>2024</td>\n",
       "      <td>12</td>\n",
       "      <td>0.803159</td>\n",
       "      <td>0.789897</td>\n",
       "    </tr>\n",
       "  </tbody>\n",
       "</table>\n",
       "<p>480 rows × 5 columns</p>\n",
       "</div>"
      ],
      "text/plain": [
       "    APT_ICAO  Year Month  Departure Punctuality %  Arrival Punctuality %\n",
       "0       EDDF  2023    01                 0.667677               0.784448\n",
       "1       EDDF  2023    02                 0.636383               0.766183\n",
       "2       EDDF  2023    03                 0.532972               0.701877\n",
       "3       EDDF  2023    04                 0.659708               0.754957\n",
       "4       EDDF  2023    05                 0.589679               0.602905\n",
       "..       ...   ...   ...                      ...                    ...\n",
       "475     LTFM  2024    08                 0.636076               0.671603\n",
       "476     LTFM  2024    09                 0.680400               0.713811\n",
       "477     LTFM  2024    10                 0.778200               0.783877\n",
       "478     LTFM  2024    11                 0.821263               0.825065\n",
       "479     LTFM  2024    12                 0.803159               0.789897\n",
       "\n",
       "[480 rows x 5 columns]"
      ]
     },
     "execution_count": 81,
     "metadata": {},
     "output_type": "execute_result"
    }
   ],
   "source": [
    "AP_cols_todrop = [\"Avg Departure Schedule Delay\", \"Avg Arrival Schedule Delay\", \"Avg Departure - Arrival Schedule Delay\", \"Operated Schedules %\"]\n",
    "df_AP_efficiencies = (df_AP_top20[df_AP_top20[\"Date\"].dt.year.astype(str).isin([\"2023\", \"2024\"])]\n",
    "                      .groupby([\"APT_ICAO\", \"Year\", \"Month\"])\n",
    "                      .mean([\"Departure Punctuality %\", \"Arrival Punctuality %\"])\n",
    "                      .reset_index()).drop(columns=AP_cols_todrop, axis=1)\n",
    "df_AP_efficiencies "
   ]
  },
  {
   "cell_type": "markdown",
   "id": "678dc0cc",
   "metadata": {},
   "source": [
    "Now that we have some efficiencies:\n",
    "- plot in the same chart the delay rate, traffic flow, effieciency trends through the years and see if there are some patterns "
   ]
  }
 ],
 "metadata": {
  "kernelspec": {
   "display_name": "TIL6022-25",
   "language": "python",
   "name": "python3"
  },
  "language_info": {
   "codemirror_mode": {
    "name": "ipython",
    "version": 3
   },
   "file_extension": ".py",
   "mimetype": "text/x-python",
   "name": "python",
   "nbconvert_exporter": "python",
   "pygments_lexer": "ipython3",
   "version": "3.13.5"
  }
 },
 "nbformat": 4,
 "nbformat_minor": 5
}
