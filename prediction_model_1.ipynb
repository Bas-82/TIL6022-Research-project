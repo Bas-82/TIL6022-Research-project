{
 "cells": [
  {
   "cell_type": "markdown",
   "id": "f5718296",
   "metadata": {},
   "source": [
    "## Parameters\n",
    "For predicting the delay of a flight we need: "
   ]
  },
  {
   "cell_type": "code",
   "execution_count": 3,
   "id": "9a4a9d3a",
   "metadata": {},
   "outputs": [],
   "source": [
    "import pandas as pd\n",
    "import numpy as np"
   ]
  },
  {
   "cell_type": "code",
   "execution_count": 4,
   "id": "7fc4cc4c",
   "metadata": {},
   "outputs": [],
   "source": [
    "df_AT = pd.read_excel(\"datasets/AirportTraffic.xlsx\")\n",
    "df_TIn = pd.read_excel(\"datasets/Taxi-In_Additional_Time.xlsx\")\n",
    "df_TOut = pd.read_excel(\"datasets/Taxi-Out_Additional_Time.xlsx\")\n",
    "df_AAD = pd.read_excel(\"datasets/AA_ATFM_Delay.xlsx\")"
   ]
  },
  {
   "cell_type": "code",
   "execution_count": 36,
   "id": "377b393e",
   "metadata": {},
   "outputs": [],
   "source": [
    "df_AAD[\"FLT_DATE\"] = df_AT[\"FLT_DATE\"].dt.strftime(\"%-d-%b-%Y\")\n",
    "df_AAD[\"Is_Weekend\"] = df_AT[\"FLT_DATE\"].dt.dayofweek.isin([5, 6]).astype(int)"
   ]
  },
  {
   "cell_type": "code",
   "execution_count": 38,
   "id": "7fccfead",
   "metadata": {},
   "outputs": [],
   "source": [
    "df_AT['FLT_DATE'] = pd.to_datetime(df_AT['FLT_DATE'])\n",
    "day_of_week = df_AT['FLT_DATE'].dt.dayofweek\n",
    "\n",
    "# Create the new column ('Is_Weekend'): 1 yes, 0 no\n",
    "df_AT['Is_Weekend'] = np.where(day_of_week >= 5, 1, 0)\n",
    "df_AT[\"Is_Weekend\"] = df_AT[\"Is_Weekend\"].astype(int)"
   ]
  },
  {
   "cell_type": "markdown",
   "id": "c22768e3",
   "metadata": {},
   "source": [
    "Prepare AT dataset"
   ]
  },
  {
   "cell_type": "code",
   "execution_count": 39,
   "id": "0e6a9362",
   "metadata": {},
   "outputs": [],
   "source": [
    "df_top20 = (\n",
    "    df_AT.groupby([\"APT_ICAO\"])[[\"FLT_TOT_1\", \"FLT_DEP_1\", \"FLT_ARR_1\"]] #Group by airport code\n",
    "    .sum().sort_values(by=\"FLT_TOT_1\",ascending=False) #Sum the values for each code of the 3 columns indicated\n",
    "    .head(20).reset_index()) #Change \"20\" to change the number of airports analysed\n",
    "# Adding airport's city name and state from original dataset\n",
    "df_top20 = (df_top20.merge(df_AT[[\"APT_ICAO\", \"APT_NAME\", \"STATE_NAME\"]]\n",
    "                           .drop_duplicates(), on=\"APT_ICAO\", how=\"left\"))\n",
    "\n",
    "airports_code_list = df_top20[\"APT_ICAO\"].tolist()\n",
    "df_airport_codes = pd.DataFrame({'APT_ICAO': airports_code_list})\n",
    "#print(df_top20)\n"
   ]
  },
  {
   "cell_type": "code",
   "execution_count": 52,
   "id": "ee1a8028",
   "metadata": {},
   "outputs": [],
   "source": [
    "df_AT_top20_pred = df_AT[df_AT[\"APT_ICAO\"].isin(airports_code_list)]\n",
    "\n",
    "df_AT_top20_pred = (\n",
    "    df_AT_top20_pred.groupby([\"APT_ICAO\", \"MONTH_NUM\", \"Is_Weekend\"])[[\"FLT_TOT_1\", \"FLT_DEP_1\", \"FLT_ARR_1\"]] #Group by airport code\n",
    "    .sum().sort_values(by=\"FLT_TOT_1\",ascending=False) #Sum the values for each code of the 3 columns indicated\n",
    "    .reset_index())\n",
    "#print(df_AT_top20_pred)\n"
   ]
  },
  {
   "cell_type": "markdown",
   "id": "6b831acb",
   "metadata": {},
   "source": [
    "Prepare Taxis time dataset"
   ]
  },
  {
   "cell_type": "code",
   "execution_count": 47,
   "id": "181aec15",
   "metadata": {},
   "outputs": [],
   "source": [
    "df_taxi_time_in = (\n",
    "    df_TIn[(df_TIn[\"APT_ICAO\"].isin(airports_code_list)) & \n",
    "           ((df_TIn[\"YEAR\"] == 2023) | (df_TIn[\"YEAR\"] == 2024))]\n",
    "    .groupby([\"APT_ICAO\", \"MONTH_NUM\"])[[\"VALID_FL\", \"TOTAL_REF_NB_FL\", \"TOTAL_REF_TIME_MIN\", \"TOTAL_ADD_TIME_MIN\"]]\n",
    "    .sum().drop_duplicates()\n",
    "    .reset_index()\n",
    ")\n",
    "#In order: filter only airports in top 20, filter only values from 2023-24, group by code and sum the values in the \n",
    "#listed columns, reset the index to have the codes as a column itselft (useful for merging)\n",
    "\n",
    "# Rename the columns to for in values\n",
    "in_cols_to_rename = {\n",
    "    \"VALID_FL\": \"VALID_FL_IN\",\n",
    "    \"TOTAL_REF_NB_FL\": \"TOTAL_REF_NB_FL_IN\",\n",
    "    \"TOTAL_REF_TIME_MIN\": \"TOT_REF_TIME_MIN_IN\",\n",
    "    \"TOTAL_ADD_TIME_MIN\": \"TOT_ADD_TIME_MIN_IN\"\n",
    "}\n",
    "df_taxi_time_in = df_taxi_time_in.rename(columns=in_cols_to_rename)\n",
    "# Merging taxi with airport codes\n",
    "df_taxi_time_final = pd.merge(df_airport_codes, df_taxi_time_in, on='APT_ICAO', how='left')\n",
    "\n",
    "df_taxi_time_out = (\n",
    "    df_TOut[(df_TOut[\"APT_ICAO\"].isin(airports_code_list)) & \n",
    "           ((df_TOut[\"YEAR\"] == 2023) | (df_TOut[\"YEAR\"] == 2024))]\n",
    "    .groupby([\"APT_ICAO\", \"MONTH_NUM\"])[[\"VALID_FL\", \"TOTAL_REF_NB_FL\", \"TOTAL_REF_TIME_MIN\", \"TOTAL_ADD_TIME_MIN\"]]\n",
    "    .sum()\n",
    "    .drop_duplicates()\n",
    "    .reset_index()\n",
    ")\n",
    "#Same operations as df_taxi_time_in\n",
    "\n",
    "# Rename the columns to for out values\n",
    "out_cols_to_rename = {\n",
    "    \"VALID_FL\": \"VALID_FL_OUT\",\n",
    "    \"TOTAL_REF_NB_FL\": \"TOTAL_REF_NB_FL_OUT\",\n",
    "    \"TOTAL_REF_TIME_MIN\": \"TOT_REF_TIME_MIN_OUT\",\n",
    "    \"TOTAL_ADD_TIME_MIN\": \"TOT_ADD_TIME_MIN_OUT\"\n",
    "}\n",
    "df_taxi_time_out = df_taxi_time_out.rename(columns=out_cols_to_rename)\n",
    "# Merging taxi in with taxi out\n",
    "df_taxi_time = pd.merge(df_taxi_time_final, df_taxi_time_out, on=[\"APT_ICAO\", \"MONTH_NUM\"], how='left')\n",
    "\n",
    "#print(df_taxi_time)"
   ]
  },
  {
   "cell_type": "markdown",
   "id": "32a19a74",
   "metadata": {},
   "source": [
    "Prepare ATFM Dataset, both with average and total causes"
   ]
  },
  {
   "cell_type": "code",
   "execution_count": 56,
   "id": "e166a032",
   "metadata": {},
   "outputs": [],
   "source": [
    "df_AAD = df_AAD.dropna()\n",
    "df_AAD_top20 = df_AAD[df_AAD[\"APT_ICAO\"].isin(airports_code_list)]\n",
    "ATFM_cols = df_AAD.columns[7:27].tolist() #Columns neded\n",
    "\n",
    "df_AAD_tot_delays_per_airport = (\n",
    "    df_AAD_top20.groupby([\"APT_ICAO\", \"MONTH_NUM\", \"Is_Weekend\"])[ATFM_cols]\n",
    "    .sum()\n",
    "    .reset_index()\n",
    ")\n",
    "\n",
    "df_AAD_avg_delays_per_airport = (\n",
    "    df_AAD_top20.groupby([\"APT_ICAO\", \"MONTH_NUM\", \"Is_Weekend\"])[ATFM_cols]\n",
    "    .mean()\n",
    "    .reset_index()\n",
    ")\n",
    "#df_AAD_avg_delays_per_airport.head(25)"
   ]
  },
  {
   "cell_type": "code",
   "execution_count": null,
   "id": "d53b63cc",
   "metadata": {},
   "outputs": [],
   "source": [
    "df = pd.merge(df_AT_top20_pred, df_AAD_avg_delays_per_airport, on=[\"APT_ICAO\", \"MONTH_NUM\", \"Is_Weekend\"], how=\"left\")\n",
    "df = pd.merge(df, df_taxi_time, on=[\"APT_ICAO\", \"MONTH_NUM\"], how=\"left\")\n",
    "df.sort_values(by=[\"APT_ICAO\", \"MONTH_NUM\"]).head()"
   ]
  }
 ],
 "metadata": {
  "kernelspec": {
   "display_name": "TIL6022-25",
   "language": "python",
   "name": "python3"
  },
  "language_info": {
   "codemirror_mode": {
    "name": "ipython",
    "version": 3
   },
   "file_extension": ".py",
   "mimetype": "text/x-python",
   "name": "python",
   "nbconvert_exporter": "python",
   "pygments_lexer": "ipython3",
   "version": "3.13.5"
  }
 },
 "nbformat": 4,
 "nbformat_minor": 5
}
